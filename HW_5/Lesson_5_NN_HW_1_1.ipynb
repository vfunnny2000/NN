{
  "nbformat": 4,
  "nbformat_minor": 0,
  "metadata": {
    "colab": {
      "provenance": [],
      "authorship_tag": "ABX9TyO6ybVSar1ho27O/ZAcLe75",
      "include_colab_link": true
    },
    "kernelspec": {
      "name": "python3",
      "display_name": "Python 3"
    },
    "language_info": {
      "name": "python"
    }
  },
  "cells": [
    {
      "cell_type": "markdown",
      "metadata": {
        "id": "view-in-github",
        "colab_type": "text"
      },
      "source": [
        "<a href=\"https://colab.research.google.com/github/vfunnny2000/NN/blob/main/HW_5/Lesson_5_NN_HW_1_1.ipynb\" target=\"_parent\"><img src=\"https://colab.research.google.com/assets/colab-badge.svg\" alt=\"Open In Colab\"/></a>"
      ]
    },
    {
      "cell_type": "code",
      "source": [
        "import re"
      ],
      "metadata": {
        "id": "xL6f9jIQd9TT"
      },
      "execution_count": 1,
      "outputs": []
    },
    {
      "cell_type": "code",
      "execution_count": 2,
      "metadata": {
        "id": "lBlRSy-kb0Hp"
      },
      "outputs": [],
      "source": [
        "with open('/content/train_data.txt', 'r', encoding='utf-8') as f:\n",
        "    text = f.read()\n",
        "    text = text.replace('\\ufeff', '') # убираем первый невидимый символ\n",
        "    text = re.sub(r'[^А-я ]', '', text) # убираем все недопустимые символы"
      ]
    },
    {
      "cell_type": "code",
      "source": [
        "text"
      ],
      "metadata": {
        "colab": {
          "base_uri": "https://localhost:8080/",
          "height": 72
        },
        "id": "4mCzUuFFeSht",
        "outputId": "f2862bf6-4165-4092-c933-00353a3b45c7"
      },
      "execution_count": 3,
      "outputs": [
        {
          "output_type": "execute_result",
          "data": {
            "text/plain": [
              "'Немного про нейронные сетиНейронные сети  это алгоритмы машинного обучения вдохновленные структурой и функционированием человеческого мозга Они состоят из узлов нейронов соединенных слоями которые могут обучаться на определенных данных для выполнения разнообразных задач включая обработку естественного языка В контексте  нейронные сети используются для интерпретации анализа и генерации текстовых данных Они способны улавливать контекст семантику и нюансы языка что делает их идеальными для задач таких как перевод классификация текста анализ настроений и автоматическое резюмирование'"
            ],
            "application/vnd.google.colaboratory.intrinsic+json": {
              "type": "string"
            }
          },
          "metadata": {},
          "execution_count": 3
        }
      ]
    },
    {
      "cell_type": "code",
      "source": [
        "num_characters = 34\n",
        "#33 буквы + пробел"
      ],
      "metadata": {
        "id": "6yk8L0xuer4C"
      },
      "execution_count": 4,
      "outputs": []
    },
    {
      "cell_type": "code",
      "source": [
        "import keras\n",
        "from keras.preprocessing.text import Tokenizer"
      ],
      "metadata": {
        "id": "JHCaflxTfGu7"
      },
      "execution_count": 5,
      "outputs": []
    },
    {
      "cell_type": "code",
      "source": [
        "tokenizer = Tokenizer(num_words=num_characters, char_level=True)"
      ],
      "metadata": {
        "id": "RN62RvIge7hJ"
      },
      "execution_count": 6,
      "outputs": []
    },
    {
      "cell_type": "code",
      "source": [
        "tokenizer.fit_on_texts(text)"
      ],
      "metadata": {
        "id": "IQAzmZauhAcA"
      },
      "execution_count": 7,
      "outputs": []
    },
    {
      "cell_type": "code",
      "source": [
        "print(tokenizer.word_index)"
      ],
      "metadata": {
        "colab": {
          "base_uri": "https://localhost:8080/"
        },
        "id": "vblmUwlkhIf7",
        "outputId": "0c5070d5-21cf-43e2-a0a5-20e3103893e7"
      },
      "execution_count": 8,
      "outputs": [
        {
          "output_type": "stream",
          "name": "stdout",
          "text": [
            "{' ': 1, 'н': 2, 'о': 3, 'е': 4, 'и': 5, 'а': 6, 'т': 7, 'с': 8, 'р': 9, 'к': 10, 'л': 11, 'ы': 12, 'в': 13, 'я': 14, 'д': 15, 'з': 16, 'м': 17, 'у': 18, 'ч': 19, 'х': 20, 'г': 21, 'п': 22, 'й': 23, 'б': 24, 'ц': 25, 'ь': 26, 'ю': 27, 'ф': 28, 'э': 29, 'ш': 30}\n"
          ]
        }
      ]
    },
    {
      "cell_type": "code",
      "source": [
        "inp_chars = 6 #\n",
        "data = tokenizer.texts_to_matrix(text)"
      ],
      "metadata": {
        "id": "6jnE92hah0Vr"
      },
      "execution_count": 9,
      "outputs": []
    },
    {
      "cell_type": "code",
      "source": [
        "data[1]"
      ],
      "metadata": {
        "colab": {
          "base_uri": "https://localhost:8080/"
        },
        "id": "TtA1CYp5h5UY",
        "outputId": "0f24cb30-3255-486c-af88-06306d6117c6"
      },
      "execution_count": 10,
      "outputs": [
        {
          "output_type": "execute_result",
          "data": {
            "text/plain": [
              "array([0., 0., 0., 0., 1., 0., 0., 0., 0., 0., 0., 0., 0., 0., 0., 0., 0.,\n",
              "       0., 0., 0., 0., 0., 0., 0., 0., 0., 0., 0., 0., 0., 0., 0., 0., 0.])"
            ]
          },
          "metadata": {},
          "execution_count": 10
        }
      ]
    },
    {
      "cell_type": "code",
      "source": [
        "n = data.shape[0]-inp_chars\n",
        "n  #размер обучающего множества"
      ],
      "metadata": {
        "colab": {
          "base_uri": "https://localhost:8080/"
        },
        "id": "os1pr7_TkFu7",
        "outputId": "6a18ac7a-67c0-4e17-9aff-c6762dca8fb7"
      },
      "execution_count": 11,
      "outputs": [
        {
          "output_type": "execute_result",
          "data": {
            "text/plain": [
              "579"
            ]
          },
          "metadata": {},
          "execution_count": 11
        }
      ]
    },
    {
      "cell_type": "code",
      "source": [
        "import numpy as np"
      ],
      "metadata": {
        "id": "2QJiKPn0kLsQ"
      },
      "execution_count": 12,
      "outputs": []
    },
    {
      "cell_type": "code",
      "source": [
        "X = np.array([data[i:i+inp_chars, :] for i in range(n)])\n",
        "Y = data[inp_chars:] #предсказание следующего символа"
      ],
      "metadata": {
        "id": "cg3fr6eEkZSD"
      },
      "execution_count": 13,
      "outputs": []
    },
    {
      "cell_type": "code",
      "source": [
        "len(X)"
      ],
      "metadata": {
        "colab": {
          "base_uri": "https://localhost:8080/"
        },
        "id": "U20uOOsSkd4D",
        "outputId": "7d2fd563-96dc-4776-d57e-b54435f32771"
      },
      "execution_count": 14,
      "outputs": [
        {
          "output_type": "execute_result",
          "data": {
            "text/plain": [
              "579"
            ]
          },
          "metadata": {},
          "execution_count": 14
        }
      ]
    },
    {
      "cell_type": "code",
      "source": [
        "X[0]"
      ],
      "metadata": {
        "colab": {
          "base_uri": "https://localhost:8080/"
        },
        "id": "yq-V3qcRk-te",
        "outputId": "df821742-e369-4227-af43-72ce33e6a782"
      },
      "execution_count": 15,
      "outputs": [
        {
          "output_type": "execute_result",
          "data": {
            "text/plain": [
              "array([[0., 0., 1., 0., 0., 0., 0., 0., 0., 0., 0., 0., 0., 0., 0., 0.,\n",
              "        0., 0., 0., 0., 0., 0., 0., 0., 0., 0., 0., 0., 0., 0., 0., 0.,\n",
              "        0., 0.],\n",
              "       [0., 0., 0., 0., 1., 0., 0., 0., 0., 0., 0., 0., 0., 0., 0., 0.,\n",
              "        0., 0., 0., 0., 0., 0., 0., 0., 0., 0., 0., 0., 0., 0., 0., 0.,\n",
              "        0., 0.],\n",
              "       [0., 0., 0., 0., 0., 0., 0., 0., 0., 0., 0., 0., 0., 0., 0., 0.,\n",
              "        0., 1., 0., 0., 0., 0., 0., 0., 0., 0., 0., 0., 0., 0., 0., 0.,\n",
              "        0., 0.],\n",
              "       [0., 0., 1., 0., 0., 0., 0., 0., 0., 0., 0., 0., 0., 0., 0., 0.,\n",
              "        0., 0., 0., 0., 0., 0., 0., 0., 0., 0., 0., 0., 0., 0., 0., 0.,\n",
              "        0., 0.],\n",
              "       [0., 0., 0., 1., 0., 0., 0., 0., 0., 0., 0., 0., 0., 0., 0., 0.,\n",
              "        0., 0., 0., 0., 0., 0., 0., 0., 0., 0., 0., 0., 0., 0., 0., 0.,\n",
              "        0., 0.],\n",
              "       [0., 0., 0., 0., 0., 0., 0., 0., 0., 0., 0., 0., 0., 0., 0., 0.,\n",
              "        0., 0., 0., 0., 0., 1., 0., 0., 0., 0., 0., 0., 0., 0., 0., 0.,\n",
              "        0., 0.]])"
            ]
          },
          "metadata": {},
          "execution_count": 15
        }
      ]
    },
    {
      "cell_type": "code",
      "source": [
        "Y[0]"
      ],
      "metadata": {
        "colab": {
          "base_uri": "https://localhost:8080/"
        },
        "id": "Bsy0ixNhlJsk",
        "outputId": "cf23ce60-9d14-4e92-8b96-6b6e2e32148d"
      },
      "execution_count": 16,
      "outputs": [
        {
          "output_type": "execute_result",
          "data": {
            "text/plain": [
              "array([0., 0., 0., 1., 0., 0., 0., 0., 0., 0., 0., 0., 0., 0., 0., 0., 0.,\n",
              "       0., 0., 0., 0., 0., 0., 0., 0., 0., 0., 0., 0., 0., 0., 0., 0., 0.])"
            ]
          },
          "metadata": {},
          "execution_count": 16
        }
      ]
    },
    {
      "cell_type": "code",
      "source": [
        "from keras.layers import *\n",
        "from keras.models import Sequential"
      ],
      "metadata": {
        "id": "YXZmuWa1lOum"
      },
      "execution_count": 17,
      "outputs": []
    },
    {
      "cell_type": "code",
      "source": [
        "model = Sequential()\n",
        "model.add(Input((inp_chars, num_characters)))\n",
        "model.add(SimpleRNN(500, activation='tanh'))\n",
        "model.add(Dense(num_characters, activation='softmax'))\n",
        "model.summary()"
      ],
      "metadata": {
        "colab": {
          "base_uri": "https://localhost:8080/"
        },
        "id": "3lAq1FhklTpa",
        "outputId": "d5a89cc4-af74-4e6a-997e-54d50381a1b4"
      },
      "execution_count": 18,
      "outputs": [
        {
          "output_type": "stream",
          "name": "stdout",
          "text": [
            "Model: \"sequential\"\n",
            "_________________________________________________________________\n",
            " Layer (type)                Output Shape              Param #   \n",
            "=================================================================\n",
            " simple_rnn (SimpleRNN)      (None, 500)               267500    \n",
            "                                                                 \n",
            " dense (Dense)               (None, 34)                17034     \n",
            "                                                                 \n",
            "=================================================================\n",
            "Total params: 284534 (1.09 MB)\n",
            "Trainable params: 284534 (1.09 MB)\n",
            "Non-trainable params: 0 (0.00 Byte)\n",
            "_________________________________________________________________\n"
          ]
        }
      ]
    },
    {
      "cell_type": "code",
      "source": [
        "model.compile(loss='categorical_crossentropy', metrics=['accuracy'], optimizer='adam')\n",
        "history = model.fit(X, Y, batch_size=32, epochs=100)"
      ],
      "metadata": {
        "colab": {
          "base_uri": "https://localhost:8080/"
        },
        "id": "Jg2Qr8fDlZmQ",
        "outputId": "dc60e721-b849-4f18-debc-e30b93d3b840"
      },
      "execution_count": 19,
      "outputs": [
        {
          "output_type": "stream",
          "name": "stdout",
          "text": [
            "Epoch 1/100\n",
            "19/19 [==============================] - 2s 17ms/step - loss: 3.2021 - accuracy: 0.1209\n",
            "Epoch 2/100\n",
            "19/19 [==============================] - 0s 17ms/step - loss: 2.5594 - accuracy: 0.2729\n",
            "Epoch 3/100\n",
            "19/19 [==============================] - 0s 16ms/step - loss: 2.2895 - accuracy: 0.3057\n",
            "Epoch 4/100\n",
            "19/19 [==============================] - 0s 16ms/step - loss: 2.0410 - accuracy: 0.3679\n",
            "Epoch 5/100\n",
            "19/19 [==============================] - 0s 17ms/step - loss: 1.9088 - accuracy: 0.3921\n",
            "Epoch 6/100\n",
            "19/19 [==============================] - 1s 27ms/step - loss: 1.7939 - accuracy: 0.4439\n",
            "Epoch 7/100\n",
            "19/19 [==============================] - 1s 27ms/step - loss: 1.7351 - accuracy: 0.4646\n",
            "Epoch 8/100\n",
            "19/19 [==============================] - 0s 23ms/step - loss: 1.7614 - accuracy: 0.4629\n",
            "Epoch 9/100\n",
            "19/19 [==============================] - 1s 26ms/step - loss: 1.6472 - accuracy: 0.5060\n",
            "Epoch 10/100\n",
            "19/19 [==============================] - 0s 26ms/step - loss: 1.6052 - accuracy: 0.4888\n",
            "Epoch 11/100\n",
            "19/19 [==============================] - 0s 22ms/step - loss: 1.5322 - accuracy: 0.5233\n",
            "Epoch 12/100\n",
            "19/19 [==============================] - 0s 17ms/step - loss: 1.5563 - accuracy: 0.5302\n",
            "Epoch 13/100\n",
            "19/19 [==============================] - 0s 15ms/step - loss: 1.4913 - accuracy: 0.5268\n",
            "Epoch 14/100\n",
            "19/19 [==============================] - 0s 15ms/step - loss: 1.3820 - accuracy: 0.5751\n",
            "Epoch 15/100\n",
            "19/19 [==============================] - 0s 16ms/step - loss: 1.3635 - accuracy: 0.5717\n",
            "Epoch 16/100\n",
            "19/19 [==============================] - 0s 16ms/step - loss: 1.3367 - accuracy: 0.5959\n",
            "Epoch 17/100\n",
            "19/19 [==============================] - 0s 15ms/step - loss: 1.2472 - accuracy: 0.6183\n",
            "Epoch 18/100\n",
            "19/19 [==============================] - 0s 15ms/step - loss: 1.2532 - accuracy: 0.6183\n",
            "Epoch 19/100\n",
            "19/19 [==============================] - 0s 17ms/step - loss: 1.2222 - accuracy: 0.6287\n",
            "Epoch 20/100\n",
            "19/19 [==============================] - 0s 17ms/step - loss: 1.1256 - accuracy: 0.6632\n",
            "Epoch 21/100\n",
            "19/19 [==============================] - 0s 17ms/step - loss: 1.1322 - accuracy: 0.6632\n",
            "Epoch 22/100\n",
            "19/19 [==============================] - 0s 16ms/step - loss: 1.0824 - accuracy: 0.6684\n",
            "Epoch 23/100\n",
            "19/19 [==============================] - 0s 15ms/step - loss: 0.9955 - accuracy: 0.7288\n",
            "Epoch 24/100\n",
            "19/19 [==============================] - 0s 15ms/step - loss: 0.9659 - accuracy: 0.6960\n",
            "Epoch 25/100\n",
            "19/19 [==============================] - 0s 16ms/step - loss: 0.9055 - accuracy: 0.7116\n",
            "Epoch 26/100\n",
            "19/19 [==============================] - 0s 15ms/step - loss: 0.8048 - accuracy: 0.7720\n",
            "Epoch 27/100\n",
            "19/19 [==============================] - 0s 15ms/step - loss: 0.8418 - accuracy: 0.7513\n",
            "Epoch 28/100\n",
            "19/19 [==============================] - 0s 15ms/step - loss: 0.7379 - accuracy: 0.7789\n",
            "Epoch 29/100\n",
            "19/19 [==============================] - 0s 16ms/step - loss: 0.8147 - accuracy: 0.7582\n",
            "Epoch 30/100\n",
            "19/19 [==============================] - 0s 16ms/step - loss: 0.8158 - accuracy: 0.7617\n",
            "Epoch 31/100\n",
            "19/19 [==============================] - 0s 15ms/step - loss: 0.7382 - accuracy: 0.7876\n",
            "Epoch 32/100\n",
            "19/19 [==============================] - 0s 16ms/step - loss: 0.7109 - accuracy: 0.8014\n",
            "Epoch 33/100\n",
            "19/19 [==============================] - 0s 16ms/step - loss: 0.7123 - accuracy: 0.7841\n",
            "Epoch 34/100\n",
            "19/19 [==============================] - 0s 16ms/step - loss: 0.6224 - accuracy: 0.8221\n",
            "Epoch 35/100\n",
            "19/19 [==============================] - 0s 16ms/step - loss: 0.5677 - accuracy: 0.8273\n",
            "Epoch 36/100\n",
            "19/19 [==============================] - 0s 17ms/step - loss: 0.5869 - accuracy: 0.8394\n",
            "Epoch 37/100\n",
            "19/19 [==============================] - 0s 16ms/step - loss: 0.6863 - accuracy: 0.8273\n",
            "Epoch 38/100\n",
            "19/19 [==============================] - 0s 15ms/step - loss: 0.8258 - accuracy: 0.7824\n",
            "Epoch 39/100\n",
            "19/19 [==============================] - 0s 17ms/step - loss: 0.7876 - accuracy: 0.7824\n",
            "Epoch 40/100\n",
            "19/19 [==============================] - 0s 16ms/step - loss: 0.7519 - accuracy: 0.8031\n",
            "Epoch 41/100\n",
            "19/19 [==============================] - 0s 15ms/step - loss: 0.4868 - accuracy: 0.8566\n",
            "Epoch 42/100\n",
            "19/19 [==============================] - 0s 16ms/step - loss: 0.5932 - accuracy: 0.8377\n",
            "Epoch 43/100\n",
            "19/19 [==============================] - 0s 17ms/step - loss: 0.6434 - accuracy: 0.8601\n",
            "Epoch 44/100\n",
            "19/19 [==============================] - 1s 27ms/step - loss: 0.6526 - accuracy: 0.8446\n",
            "Epoch 45/100\n",
            "19/19 [==============================] - 1s 28ms/step - loss: 0.5390 - accuracy: 0.8532\n",
            "Epoch 46/100\n",
            "19/19 [==============================] - 0s 25ms/step - loss: 0.3723 - accuracy: 0.8981\n",
            "Epoch 47/100\n",
            "19/19 [==============================] - 1s 29ms/step - loss: 0.3392 - accuracy: 0.9085\n",
            "Epoch 48/100\n",
            "19/19 [==============================] - 1s 27ms/step - loss: 0.3423 - accuracy: 0.9067\n",
            "Epoch 49/100\n",
            "19/19 [==============================] - 0s 17ms/step - loss: 0.2823 - accuracy: 0.9102\n",
            "Epoch 50/100\n",
            "19/19 [==============================] - 0s 15ms/step - loss: 0.4012 - accuracy: 0.8964\n",
            "Epoch 51/100\n",
            "19/19 [==============================] - 0s 16ms/step - loss: 0.3719 - accuracy: 0.9050\n",
            "Epoch 52/100\n",
            "19/19 [==============================] - 0s 17ms/step - loss: 0.3871 - accuracy: 0.8808\n",
            "Epoch 53/100\n",
            "19/19 [==============================] - 0s 15ms/step - loss: 0.5254 - accuracy: 0.8584\n",
            "Epoch 54/100\n",
            "19/19 [==============================] - 0s 15ms/step - loss: 0.4776 - accuracy: 0.8756\n",
            "Epoch 55/100\n",
            "19/19 [==============================] - 0s 16ms/step - loss: 0.3895 - accuracy: 0.8826\n",
            "Epoch 56/100\n",
            "19/19 [==============================] - 0s 16ms/step - loss: 0.3087 - accuracy: 0.9085\n",
            "Epoch 57/100\n",
            "19/19 [==============================] - 0s 16ms/step - loss: 0.2474 - accuracy: 0.9257\n",
            "Epoch 58/100\n",
            "19/19 [==============================] - 0s 15ms/step - loss: 0.5472 - accuracy: 0.8739\n",
            "Epoch 59/100\n",
            "19/19 [==============================] - 0s 16ms/step - loss: 0.3566 - accuracy: 0.9050\n",
            "Epoch 60/100\n",
            "19/19 [==============================] - 0s 15ms/step - loss: 0.2783 - accuracy: 0.9206\n",
            "Epoch 61/100\n",
            "19/19 [==============================] - 0s 15ms/step - loss: 0.3656 - accuracy: 0.9102\n",
            "Epoch 62/100\n",
            "19/19 [==============================] - 0s 16ms/step - loss: 0.2827 - accuracy: 0.9154\n",
            "Epoch 63/100\n",
            "19/19 [==============================] - 0s 16ms/step - loss: 0.3997 - accuracy: 0.9033\n",
            "Epoch 64/100\n",
            "19/19 [==============================] - 0s 16ms/step - loss: 0.3692 - accuracy: 0.8912\n",
            "Epoch 65/100\n",
            "19/19 [==============================] - 0s 16ms/step - loss: 0.5105 - accuracy: 0.8636\n",
            "Epoch 66/100\n",
            "19/19 [==============================] - 0s 16ms/step - loss: 0.5204 - accuracy: 0.8653\n",
            "Epoch 67/100\n",
            "19/19 [==============================] - 0s 16ms/step - loss: 0.5790 - accuracy: 0.8480\n",
            "Epoch 68/100\n",
            "19/19 [==============================] - 0s 16ms/step - loss: 0.5124 - accuracy: 0.8618\n",
            "Epoch 69/100\n",
            "19/19 [==============================] - 0s 17ms/step - loss: 0.6034 - accuracy: 0.8394\n",
            "Epoch 70/100\n",
            "19/19 [==============================] - 0s 16ms/step - loss: 0.4249 - accuracy: 0.8808\n",
            "Epoch 71/100\n",
            "19/19 [==============================] - 0s 16ms/step - loss: 0.3652 - accuracy: 0.8912\n",
            "Epoch 72/100\n",
            "19/19 [==============================] - 0s 17ms/step - loss: 0.3555 - accuracy: 0.9050\n",
            "Epoch 73/100\n",
            "19/19 [==============================] - 0s 15ms/step - loss: 0.2495 - accuracy: 0.9326\n",
            "Epoch 74/100\n",
            "19/19 [==============================] - 0s 15ms/step - loss: 0.2043 - accuracy: 0.9499\n",
            "Epoch 75/100\n",
            "19/19 [==============================] - 0s 16ms/step - loss: 0.3173 - accuracy: 0.9223\n",
            "Epoch 76/100\n",
            "19/19 [==============================] - 0s 15ms/step - loss: 0.3197 - accuracy: 0.9171\n",
            "Epoch 77/100\n",
            "19/19 [==============================] - 0s 15ms/step - loss: 0.2684 - accuracy: 0.9188\n",
            "Epoch 78/100\n",
            "19/19 [==============================] - 0s 16ms/step - loss: 0.2368 - accuracy: 0.9119\n",
            "Epoch 79/100\n",
            "19/19 [==============================] - 0s 16ms/step - loss: 0.2072 - accuracy: 0.9257\n",
            "Epoch 80/100\n",
            "19/19 [==============================] - 0s 16ms/step - loss: 0.1758 - accuracy: 0.9413\n",
            "Epoch 81/100\n",
            "19/19 [==============================] - 0s 24ms/step - loss: 0.1648 - accuracy: 0.9378\n",
            "Epoch 82/100\n",
            "19/19 [==============================] - 1s 27ms/step - loss: 0.1512 - accuracy: 0.9361\n",
            "Epoch 83/100\n",
            "19/19 [==============================] - 1s 27ms/step - loss: 0.1648 - accuracy: 0.9413\n",
            "Epoch 84/100\n",
            "19/19 [==============================] - 0s 25ms/step - loss: 0.1455 - accuracy: 0.9534\n",
            "Epoch 85/100\n",
            "19/19 [==============================] - 1s 27ms/step - loss: 0.1946 - accuracy: 0.9413\n",
            "Epoch 86/100\n",
            "19/19 [==============================] - 0s 25ms/step - loss: 0.2274 - accuracy: 0.9396\n",
            "Epoch 87/100\n",
            "19/19 [==============================] - 0s 16ms/step - loss: 0.1623 - accuracy: 0.9396\n",
            "Epoch 88/100\n",
            "19/19 [==============================] - 0s 16ms/step - loss: 0.1415 - accuracy: 0.9499\n",
            "Epoch 89/100\n",
            "19/19 [==============================] - 0s 16ms/step - loss: 0.1728 - accuracy: 0.9326\n",
            "Epoch 90/100\n",
            "19/19 [==============================] - 0s 16ms/step - loss: 0.1445 - accuracy: 0.9396\n",
            "Epoch 91/100\n",
            "19/19 [==============================] - 0s 15ms/step - loss: 0.3523 - accuracy: 0.9188\n",
            "Epoch 92/100\n",
            "19/19 [==============================] - 0s 17ms/step - loss: 0.3125 - accuracy: 0.9223\n",
            "Epoch 93/100\n",
            "19/19 [==============================] - 0s 16ms/step - loss: 0.2597 - accuracy: 0.9396\n",
            "Epoch 94/100\n",
            "19/19 [==============================] - 0s 15ms/step - loss: 0.1991 - accuracy: 0.9326\n",
            "Epoch 95/100\n",
            "19/19 [==============================] - 0s 15ms/step - loss: 0.1918 - accuracy: 0.9292\n",
            "Epoch 96/100\n",
            "19/19 [==============================] - 0s 16ms/step - loss: 0.1768 - accuracy: 0.9361\n",
            "Epoch 97/100\n",
            "19/19 [==============================] - 0s 15ms/step - loss: 0.2239 - accuracy: 0.9344\n",
            "Epoch 98/100\n",
            "19/19 [==============================] - 0s 15ms/step - loss: 0.2039 - accuracy: 0.9275\n",
            "Epoch 99/100\n",
            "19/19 [==============================] - 0s 17ms/step - loss: 0.2431 - accuracy: 0.9171\n",
            "Epoch 100/100\n",
            "19/19 [==============================] - 0s 15ms/step - loss: 0.2392 - accuracy: 0.9223\n"
          ]
        }
      ]
    },
    {
      "cell_type": "code",
      "source": [
        "def buildPhrase(inp_str, str_len = 50):\n",
        "  for i in range(str_len):\n",
        "    x = []\n",
        "    for j in range(i, i+inp_chars):\n",
        "      x.append(tokenizer.texts_to_matrix(inp_str[j])) # преобразуем символы в One-Hot-encoding\n",
        "\n",
        "    x = np.array(x)\n",
        "    inp = x.reshape(1, inp_chars, num_characters)\n",
        "\n",
        "    pred = model.predict( inp ) # предсказываем OHE четвертого символа\n",
        "    d = tokenizer.index_word[pred.argmax(axis=1)[0]] # получаем ответ в символьном представлении\n",
        "\n",
        "    inp_str += d # дописываем строку\n",
        "\n",
        "  return inp_str"
      ],
      "metadata": {
        "id": "LR0j0jAhlp8J"
      },
      "execution_count": 20,
      "outputs": []
    },
    {
      "cell_type": "code",
      "source": [
        "res = buildPhrase(\"немног\")\n",
        "print(res)"
      ],
      "metadata": {
        "colab": {
          "base_uri": "https://localhost:8080/"
        },
        "id": "p0cRJVJ4l7o3",
        "outputId": "d603f515-2af1-4342-a6b9-dc15752bb498"
      },
      "execution_count": 21,
      "outputs": [
        {
          "output_type": "stream",
          "name": "stdout",
          "text": [
            "1/1 [==============================] - 0s 177ms/step\n",
            "1/1 [==============================] - 0s 29ms/step\n",
            "1/1 [==============================] - 0s 21ms/step\n",
            "1/1 [==============================] - 0s 20ms/step\n",
            "1/1 [==============================] - 0s 21ms/step\n",
            "1/1 [==============================] - 0s 22ms/step\n",
            "1/1 [==============================] - 0s 23ms/step\n",
            "1/1 [==============================] - 0s 21ms/step\n",
            "1/1 [==============================] - 0s 23ms/step\n",
            "1/1 [==============================] - 0s 21ms/step\n",
            "1/1 [==============================] - 0s 24ms/step\n",
            "1/1 [==============================] - 0s 23ms/step\n",
            "1/1 [==============================] - 0s 21ms/step\n",
            "1/1 [==============================] - 0s 22ms/step\n",
            "1/1 [==============================] - 0s 35ms/step\n",
            "1/1 [==============================] - 0s 21ms/step\n",
            "1/1 [==============================] - 0s 22ms/step\n",
            "1/1 [==============================] - 0s 21ms/step\n",
            "1/1 [==============================] - 0s 25ms/step\n",
            "1/1 [==============================] - 0s 20ms/step\n",
            "1/1 [==============================] - 0s 20ms/step\n",
            "1/1 [==============================] - 0s 22ms/step\n",
            "1/1 [==============================] - 0s 22ms/step\n",
            "1/1 [==============================] - 0s 24ms/step\n",
            "1/1 [==============================] - 0s 22ms/step\n",
            "1/1 [==============================] - 0s 26ms/step\n",
            "1/1 [==============================] - 0s 23ms/step\n",
            "1/1 [==============================] - 0s 22ms/step\n",
            "1/1 [==============================] - 0s 22ms/step\n",
            "1/1 [==============================] - 0s 22ms/step\n",
            "1/1 [==============================] - 0s 24ms/step\n",
            "1/1 [==============================] - 0s 22ms/step\n",
            "1/1 [==============================] - 0s 23ms/step\n",
            "1/1 [==============================] - 0s 21ms/step\n",
            "1/1 [==============================] - 0s 21ms/step\n",
            "1/1 [==============================] - 0s 22ms/step\n",
            "1/1 [==============================] - 0s 21ms/step\n",
            "1/1 [==============================] - 0s 22ms/step\n",
            "1/1 [==============================] - 0s 21ms/step\n",
            "1/1 [==============================] - 0s 22ms/step\n",
            "1/1 [==============================] - 0s 22ms/step\n",
            "1/1 [==============================] - 0s 30ms/step\n",
            "1/1 [==============================] - 0s 20ms/step\n",
            "1/1 [==============================] - 0s 22ms/step\n",
            "1/1 [==============================] - 0s 21ms/step\n",
            "1/1 [==============================] - 0s 24ms/step\n",
            "1/1 [==============================] - 0s 21ms/step\n",
            "1/1 [==============================] - 0s 21ms/step\n",
            "1/1 [==============================] - 0s 21ms/step\n",
            "1/1 [==============================] - 0s 24ms/step\n",
            "немного про нейронные сети  спольбуютсяядля интерпретаци\n"
          ]
        }
      ]
    },
    {
      "cell_type": "code",
      "source": [
        "with open('/content/train_data.txt', 'r', encoding='utf-8') as f:\n",
        "    texts = f.read()\n",
        "    texts = texts.replace('\\ufeff', '') # убираем первый невидимый символ"
      ],
      "metadata": {
        "id": "kdb2SD5vmPsP"
      },
      "execution_count": 22,
      "outputs": []
    },
    {
      "cell_type": "code",
      "source": [
        "maxWordsCount = 1000\n",
        "tokenizer = Tokenizer(num_words=maxWordsCount, filters='!–\"—#$%&amp;()*+,-./:;<=>?@[\\\\]^_`{|}~\\t\\n\\r«»',\n",
        "                       lower=True, split=' ', char_level=False)\n",
        "tokenizer.fit_on_texts([texts])"
      ],
      "metadata": {
        "id": "lCixKr6mmdJd"
      },
      "execution_count": 23,
      "outputs": []
    },
    {
      "cell_type": "code",
      "source": [
        "dist = list(tokenizer.word_counts.items())\n",
        "print(dist[:10])"
      ],
      "metadata": {
        "colab": {
          "base_uri": "https://localhost:8080/"
        },
        "id": "i-hs61oxmvDq",
        "outputId": "15fe5f92-a042-4bf4-b291-921d7cfde58a"
      },
      "execution_count": 24,
      "outputs": [
        {
          "output_type": "stream",
          "name": "stdout",
          "text": [
            "[('немного', 1), ('про', 1), ('нейронные', 3), ('сети', 3), ('это', 1), ('алгоритмы', 1), ('машинного', 1), ('обучения', 1), ('вдохновленные', 1), ('структурой', 1)]\n"
          ]
        }
      ]
    },
    {
      "cell_type": "code",
      "source": [
        "data = tokenizer.texts_to_sequences([texts])\n"
      ],
      "metadata": {
        "id": "nKLNie-unRwO"
      },
      "execution_count": 25,
      "outputs": []
    },
    {
      "cell_type": "code",
      "source": [
        "data"
      ],
      "metadata": {
        "colab": {
          "base_uri": "https://localhost:8080/"
        },
        "id": "rVZkoGnznhkk",
        "outputId": "7d49fc80-a34c-4e79-b2df-953337b556be"
      },
      "execution_count": 26,
      "outputs": [
        {
          "output_type": "execute_result",
          "data": {
            "text/plain": [
              "[[10,\n",
              "  11,\n",
              "  2,\n",
              "  3,\n",
              "  2,\n",
              "  3,\n",
              "  12,\n",
              "  13,\n",
              "  14,\n",
              "  15,\n",
              "  16,\n",
              "  17,\n",
              "  1,\n",
              "  18,\n",
              "  19,\n",
              "  20,\n",
              "  5,\n",
              "  21,\n",
              "  22,\n",
              "  23,\n",
              "  24,\n",
              "  25,\n",
              "  26,\n",
              "  27,\n",
              "  28,\n",
              "  29,\n",
              "  30,\n",
              "  31,\n",
              "  6,\n",
              "  4,\n",
              "  32,\n",
              "  33,\n",
              "  7,\n",
              "  34,\n",
              "  35,\n",
              "  36,\n",
              "  8,\n",
              "  9,\n",
              "  37,\n",
              "  38,\n",
              "  9,\n",
              "  2,\n",
              "  3,\n",
              "  39,\n",
              "  4,\n",
              "  40,\n",
              "  41,\n",
              "  1,\n",
              "  42,\n",
              "  43,\n",
              "  6,\n",
              "  5,\n",
              "  44,\n",
              "  45,\n",
              "  46,\n",
              "  47,\n",
              "  1,\n",
              "  48,\n",
              "  8,\n",
              "  49,\n",
              "  50,\n",
              "  51,\n",
              "  52,\n",
              "  4,\n",
              "  7,\n",
              "  53,\n",
              "  54,\n",
              "  55,\n",
              "  56,\n",
              "  57,\n",
              "  58,\n",
              "  59,\n",
              "  1,\n",
              "  60,\n",
              "  61]]"
            ]
          },
          "metadata": {},
          "execution_count": 26
        }
      ]
    },
    {
      "cell_type": "code",
      "source": [
        "len(data[0])"
      ],
      "metadata": {
        "colab": {
          "base_uri": "https://localhost:8080/"
        },
        "id": "AE8OSM6QnhmP",
        "outputId": "6c3829bb-d8de-4019-934a-be11853d155c"
      },
      "execution_count": 27,
      "outputs": [
        {
          "output_type": "execute_result",
          "data": {
            "text/plain": [
              "75"
            ]
          },
          "metadata": {},
          "execution_count": 27
        }
      ]
    },
    {
      "cell_type": "code",
      "source": [
        "res = keras.utils.to_categorical(data[0], num_classes=maxWordsCount)\n",
        "print( res.shape )"
      ],
      "metadata": {
        "colab": {
          "base_uri": "https://localhost:8080/"
        },
        "id": "-A6qgEpNnhq-",
        "outputId": "613f85b7-6714-401d-a7b1-2e1edde06666"
      },
      "execution_count": 28,
      "outputs": [
        {
          "output_type": "stream",
          "name": "stdout",
          "text": [
            "(75, 1000)\n"
          ]
        }
      ]
    },
    {
      "cell_type": "code",
      "source": [
        "inp_words = 3\n",
        "n = res.shape[0]-inp_words"
      ],
      "metadata": {
        "id": "Zd44N_lZnhs3"
      },
      "execution_count": 29,
      "outputs": []
    },
    {
      "cell_type": "code",
      "source": [
        "X = np.array([res[i:i+inp_words, :] for i in range(n)])\n",
        "Y = res[inp_words:]"
      ],
      "metadata": {
        "id": "zo6I4SyTq5SL"
      },
      "execution_count": 30,
      "outputs": []
    },
    {
      "cell_type": "code",
      "source": [
        "from keras.layers import *\n",
        "from keras.models import Sequential"
      ],
      "metadata": {
        "id": "1H0OYnxJsd7H"
      },
      "execution_count": 31,
      "outputs": []
    },
    {
      "cell_type": "code",
      "source": [
        "model = Sequential()\n",
        "model.add(Input((inp_words, maxWordsCount)))\n",
        "model.add(SimpleRNN(128, activation='tanh'))\n",
        "model.add(Dense(maxWordsCount, activation='softmax'))\n",
        "model.summary()\n",
        "\n",
        "model.compile(loss='categorical_crossentropy', metrics=['accuracy'], optimizer='adam')"
      ],
      "metadata": {
        "colab": {
          "base_uri": "https://localhost:8080/"
        },
        "id": "HE1GJ2sEq7Is",
        "outputId": "cab0e5bc-f295-49ed-f796-b17d0656dfea"
      },
      "execution_count": 32,
      "outputs": [
        {
          "output_type": "stream",
          "name": "stdout",
          "text": [
            "Model: \"sequential_1\"\n",
            "_________________________________________________________________\n",
            " Layer (type)                Output Shape              Param #   \n",
            "=================================================================\n",
            " simple_rnn_1 (SimpleRNN)    (None, 128)               144512    \n",
            "                                                                 \n",
            " dense_1 (Dense)             (None, 1000)              129000    \n",
            "                                                                 \n",
            "=================================================================\n",
            "Total params: 273512 (1.04 MB)\n",
            "Trainable params: 273512 (1.04 MB)\n",
            "Non-trainable params: 0 (0.00 Byte)\n",
            "_________________________________________________________________\n"
          ]
        }
      ]
    },
    {
      "cell_type": "code",
      "source": [
        "history = model.fit(X, Y, batch_size=32, epochs=20)"
      ],
      "metadata": {
        "colab": {
          "base_uri": "https://localhost:8080/"
        },
        "id": "B8wV3CaerDtV",
        "outputId": "e1321d87-c640-4210-cbc0-fa6c93072f88"
      },
      "execution_count": 35,
      "outputs": [
        {
          "output_type": "stream",
          "name": "stdout",
          "text": [
            "Epoch 1/20\n",
            "3/3 [==============================] - 0s 17ms/step - loss: 3.4333 - accuracy: 0.1528\n",
            "Epoch 2/20\n",
            "3/3 [==============================] - 0s 17ms/step - loss: 3.3765 - accuracy: 0.1944\n",
            "Epoch 3/20\n",
            "3/3 [==============================] - 0s 17ms/step - loss: 3.3212 - accuracy: 0.2222\n",
            "Epoch 4/20\n",
            "3/3 [==============================] - 0s 18ms/step - loss: 3.2625 - accuracy: 0.2500\n",
            "Epoch 5/20\n",
            "3/3 [==============================] - 0s 19ms/step - loss: 3.1982 - accuracy: 0.3056\n",
            "Epoch 6/20\n",
            "3/3 [==============================] - 0s 15ms/step - loss: 3.1280 - accuracy: 0.3194\n",
            "Epoch 7/20\n",
            "3/3 [==============================] - 0s 17ms/step - loss: 3.0538 - accuracy: 0.3750\n",
            "Epoch 8/20\n",
            "3/3 [==============================] - 0s 15ms/step - loss: 2.9736 - accuracy: 0.4028\n",
            "Epoch 9/20\n",
            "3/3 [==============================] - 0s 14ms/step - loss: 2.8892 - accuracy: 0.5000\n",
            "Epoch 10/20\n",
            "3/3 [==============================] - 0s 15ms/step - loss: 2.7999 - accuracy: 0.5417\n",
            "Epoch 11/20\n",
            "3/3 [==============================] - 0s 15ms/step - loss: 2.7089 - accuracy: 0.5972\n",
            "Epoch 12/20\n",
            "3/3 [==============================] - 0s 15ms/step - loss: 2.6126 - accuracy: 0.6806\n",
            "Epoch 13/20\n",
            "3/3 [==============================] - 0s 14ms/step - loss: 2.5155 - accuracy: 0.7222\n",
            "Epoch 14/20\n",
            "3/3 [==============================] - 0s 14ms/step - loss: 2.4158 - accuracy: 0.7778\n",
            "Epoch 15/20\n",
            "3/3 [==============================] - 0s 14ms/step - loss: 2.3163 - accuracy: 0.7917\n",
            "Epoch 16/20\n",
            "3/3 [==============================] - 0s 14ms/step - loss: 2.2132 - accuracy: 0.8194\n",
            "Epoch 17/20\n",
            "3/3 [==============================] - 0s 14ms/step - loss: 2.1098 - accuracy: 0.8194\n",
            "Epoch 18/20\n",
            "3/3 [==============================] - 0s 17ms/step - loss: 2.0083 - accuracy: 0.8611\n",
            "Epoch 19/20\n",
            "3/3 [==============================] - 0s 17ms/step - loss: 1.9024 - accuracy: 0.8611\n",
            "Epoch 20/20\n",
            "3/3 [==============================] - 0s 15ms/step - loss: 1.8026 - accuracy: 0.8750\n"
          ]
        }
      ]
    },
    {
      "cell_type": "code",
      "source": [],
      "metadata": {
        "id": "xWiiT16ErMOf"
      },
      "execution_count": null,
      "outputs": []
    },
    {
      "cell_type": "code",
      "source": [
        "def buildPhrase(texts, str_len = 20):\n",
        "  res = texts\n",
        "  data = tokenizer.texts_to_sequences([texts])[0]\n",
        "  for i in range(str_len):\n",
        "    x = keras.utils.to_categorical(data[i: i+inp_words], num_classes=maxWordsCount) # преобразуем в One-Hot-encoding\n",
        "    inp = x.reshape(1, inp_words, maxWordsCount)\n",
        "\n",
        "    pred = model.predict(inp) # предсказываем OHE четвертого символа\n",
        "    indx = pred.argmax(axis=1)[0]\n",
        "    data.append(indx)\n",
        "\n",
        "    res += \" \" + tokenizer.index_word[indx] # дописываем строку\n",
        "\n",
        "  return res"
      ],
      "metadata": {
        "id": "SgHRvgC1TyDo"
      },
      "execution_count": 36,
      "outputs": []
    },
    {
      "cell_type": "code",
      "source": [
        "res = buildPhrase(\"нейронные сети используются\")\n",
        "print(res)"
      ],
      "metadata": {
        "colab": {
          "base_uri": "https://localhost:8080/"
        },
        "id": "vSzSkkQcrVYX",
        "outputId": "ff91c805-4087-4dcc-8f83-3b8950c5d42d"
      },
      "execution_count": 38,
      "outputs": [
        {
          "output_type": "stream",
          "name": "stdout",
          "text": [
            "1/1 [==============================] - 0s 144ms/step\n",
            "1/1 [==============================] - 0s 21ms/step\n",
            "1/1 [==============================] - 0s 20ms/step\n",
            "1/1 [==============================] - 0s 20ms/step\n",
            "1/1 [==============================] - 0s 23ms/step\n",
            "1/1 [==============================] - 0s 22ms/step\n",
            "1/1 [==============================] - 0s 24ms/step\n",
            "1/1 [==============================] - 0s 21ms/step\n",
            "1/1 [==============================] - 0s 23ms/step\n",
            "1/1 [==============================] - 0s 20ms/step\n",
            "1/1 [==============================] - 0s 21ms/step\n",
            "1/1 [==============================] - 0s 21ms/step\n",
            "1/1 [==============================] - 0s 20ms/step\n",
            "1/1 [==============================] - 0s 22ms/step\n",
            "1/1 [==============================] - 0s 22ms/step\n",
            "1/1 [==============================] - 0s 24ms/step\n",
            "1/1 [==============================] - 0s 22ms/step\n",
            "1/1 [==============================] - 0s 24ms/step\n",
            "1/1 [==============================] - 0s 21ms/step\n",
            "1/1 [==============================] - 0s 21ms/step\n",
            "нейронные сети используются для интерпретации анализа и генерации текстовых данных они способны улавливать контекст семантику и нюансы языка данных делает их разнообразных для\n"
          ]
        }
      ]
    },
    {
      "cell_type": "code",
      "source": [
        "# x.shape"
      ],
      "metadata": {
        "id": "mlkbtJQHrVQ_"
      },
      "execution_count": null,
      "outputs": []
    }
  ]
}
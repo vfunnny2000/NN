{
  "nbformat": 4,
  "nbformat_minor": 0,
  "metadata": {
    "colab": {
      "provenance": [],
      "authorship_tag": "ABX9TyNIAg+T4gyJ/mVMHtXBIEHK",
      "include_colab_link": true
    },
    "kernelspec": {
      "name": "python3",
      "display_name": "Python 3"
    },
    "language_info": {
      "name": "python"
    }
  },
  "cells": [
    {
      "cell_type": "markdown",
      "metadata": {
        "id": "view-in-github",
        "colab_type": "text"
      },
      "source": [
        "<a href=\"https://colab.research.google.com/github/vfunnny2000/NN/blob/main/HW_2_NN.ipynb\" target=\"_parent\"><img src=\"https://colab.research.google.com/assets/colab-badge.svg\" alt=\"Open In Colab\"/></a>"
      ]
    },
    {
      "cell_type": "code",
      "source": [
        "!pip install tensorflow"
      ],
      "metadata": {
        "id": "mVfnY2It7P-j"
      },
      "execution_count": null,
      "outputs": []
    },
    {
      "cell_type": "code",
      "execution_count": 34,
      "metadata": {
        "id": "L0tRW49yX06U"
      },
      "outputs": [],
      "source": [
        "import keras\n",
        "from keras.layers import *\n",
        "import matplotlib.pyplot as plt\n",
        "import numpy as np\n",
        "import keras.utils\n",
        "import PIL\n",
        "import PIL.Image\n",
        "from keras.api._v2.keras.preprocessing import image\n",
        "# import tensorflow.keras\n",
        "# from tensorflow.keras.preprocessing import image"
      ]
    },
    {
      "cell_type": "code",
      "source": [
        "(x_train, y_train), (x_test, y_test) = keras.datasets.mnist.load_data()"
      ],
      "metadata": {
        "id": "UPt--9G6ZEFf"
      },
      "execution_count": 35,
      "outputs": []
    },
    {
      "cell_type": "code",
      "source": [
        "input_shape = (28, 28, 1)"
      ],
      "metadata": {
        "id": "cr9FErcHZGXN"
      },
      "execution_count": 36,
      "outputs": []
    },
    {
      "cell_type": "code",
      "source": [
        "model_1 = keras.Sequential([\n",
        "    keras.Input(shape=input_shape),\n",
        "    Flatten(),\n",
        "    Dense(50),\n",
        "    Dense(10) ] )"
      ],
      "metadata": {
        "id": "K4nTAMa6ZdDG"
      },
      "execution_count": 37,
      "outputs": []
    },
    {
      "cell_type": "code",
      "source": [
        "model_1.compile(optimizer='SGD', loss='categorical_crossentropy', metrics=['accuracy'])"
      ],
      "metadata": {
        "id": "oDRPuCieaR6u"
      },
      "execution_count": 38,
      "outputs": []
    },
    {
      "cell_type": "code",
      "source": [
        "x_train = x_train / 255\n",
        "x_test = x_test / 255"
      ],
      "metadata": {
        "id": "psjwgCCdaZmN"
      },
      "execution_count": 39,
      "outputs": []
    },
    {
      "cell_type": "code",
      "source": [
        "y_train = keras.utils.to_categorical(y_train, 10)\n",
        "y_test = keras.utils.to_categorical(y_test, 10)"
      ],
      "metadata": {
        "id": "unV2QNeSvkPQ"
      },
      "execution_count": 40,
      "outputs": []
    },
    {
      "cell_type": "code",
      "source": [
        "model_2 = keras.Sequential([\n",
        "    keras.Input(shape=input_shape),\n",
        "    Flatten(),\n",
        "    Dense(50, activation=\"relu\"),\n",
        "    Dense(10, activation=\"softmax\")\n",
        "    ] )"
      ],
      "metadata": {
        "id": "9nt6rrrQvrvt"
      },
      "execution_count": 41,
      "outputs": []
    },
    {
      "cell_type": "code",
      "source": [
        "model_2.compile(optimizer='adam',\n",
        "                loss='categorical_crossentropy',\n",
        "                metrics=['accuracy'])\n"
      ],
      "metadata": {
        "id": "l6JeoRcUv7RW"
      },
      "execution_count": 42,
      "outputs": []
    },
    {
      "cell_type": "code",
      "source": [
        "history = model_2.fit(x_train, y_train, batch_size=32, epochs=5, validation_data =(x_test, y_test))"
      ],
      "metadata": {
        "colab": {
          "base_uri": "https://localhost:8080/"
        },
        "id": "WjGeYiA3wIhu",
        "outputId": "8f1f6428-582c-43cc-9ef9-f2f4b437f9e6"
      },
      "execution_count": 43,
      "outputs": [
        {
          "output_type": "stream",
          "name": "stdout",
          "text": [
            "Epoch 1/5\n",
            "1875/1875 [==============================] - 8s 4ms/step - loss: 0.3260 - accuracy: 0.9089 - val_loss: 0.1894 - val_accuracy: 0.9449\n",
            "Epoch 2/5\n",
            "1875/1875 [==============================] - 6s 3ms/step - loss: 0.1647 - accuracy: 0.9524 - val_loss: 0.1361 - val_accuracy: 0.9602\n",
            "Epoch 3/5\n",
            "1875/1875 [==============================] - 7s 4ms/step - loss: 0.1240 - accuracy: 0.9633 - val_loss: 0.1154 - val_accuracy: 0.9649\n",
            "Epoch 4/5\n",
            "1875/1875 [==============================] - 6s 3ms/step - loss: 0.0984 - accuracy: 0.9705 - val_loss: 0.1002 - val_accuracy: 0.9693\n",
            "Epoch 5/5\n",
            "1875/1875 [==============================] - 7s 4ms/step - loss: 0.0828 - accuracy: 0.9754 - val_loss: 0.0997 - val_accuracy: 0.9694\n"
          ]
        }
      ]
    },
    {
      "cell_type": "code",
      "source": [
        "scores = model_2.evaluate(x_test, y_test)\n",
        "print(\"Доля верных ответов в процентах:\", round(scores[1] * 100, 4))"
      ],
      "metadata": {
        "colab": {
          "base_uri": "https://localhost:8080/"
        },
        "id": "e0RZVV7-xtdq",
        "outputId": "12236773-3312-44a9-d0f0-a22ca9a8e89a"
      },
      "execution_count": 44,
      "outputs": [
        {
          "output_type": "stream",
          "name": "stdout",
          "text": [
            "313/313 [==============================] - 1s 2ms/step - loss: 0.0997 - accuracy: 0.9694\n",
            "Доля верных ответов в процентах: 96.94\n"
          ]
        }
      ]
    },
    {
      "cell_type": "code",
      "source": [
        "n_rec=35\n",
        "plt.imshow(x_test[n_rec].reshape(28, 28), cmap=plt.cm.binary)\n",
        "plt.show()\n",
        "x = x_test[n_rec]\n",
        "x = np.expand_dims(x, axis=0)\n",
        "prediction = model_2.predict(x)\n",
        "prediction = np.argmax(prediction[0])\n",
        "print(\"Цифра:\", prediction)"
      ],
      "metadata": {
        "colab": {
          "base_uri": "https://localhost:8080/",
          "height": 465
        },
        "id": "V8gGO-i5z88Z",
        "outputId": "21368f1c-c09e-4e90-b1e5-fa5576623588"
      },
      "execution_count": 45,
      "outputs": [
        {
          "output_type": "display_data",
          "data": {
            "text/plain": [
              "<Figure size 640x480 with 1 Axes>"
            ],
            "image/png": "[encoded data removed]"
          },
          "metadata": {}
        },
        {
          "output_type": "stream",
          "name": "stdout",
          "text": [
            "1/1 [==============================] - 0s 65ms/step\n",
            "Цифра: 2\n"
          ]
        }
      ]
    },
    {
      "cell_type": "code",
      "source": [
        "img = image.load_img('//content/sample_data/t3.jpg')\n",
        "img = img.resize((28,28))\n",
        "img = img.convert('L')\n",
        "img = np.array(img)\n",
        "img = img.reshape(1,28,28)\n",
        "img = img/255.0\n",
        "prediction = model_2.predict(img)\n",
        "prediction = np.argmax(prediction)\n",
        "\n"
      ],
      "metadata": {
        "colab": {
          "base_uri": "https://localhost:8080/"
        },
        "id": "GNQCJV440mCK",
        "outputId": "4a4a0dc7-932e-4a20-e741-5130bda20207"
      },
      "execution_count": 52,
      "outputs": [
        {
          "output_type": "stream",
          "name": "stdout",
          "text": [
            "1/1 [==============================] - 0s 25ms/step\n"
          ]
        }
      ]
    },
    {
      "cell_type": "code",
      "source": [
        "print(\"цифра:\", prediction)"
      ],
      "metadata": {
        "colab": {
          "base_uri": "https://localhost:8080/"
        },
        "id": "mXPs7Qyn2mmE",
        "outputId": "eab42c4e-289a-4678-e5f3-50059fb8e595"
      },
      "execution_count": 53,
      "outputs": [
        {
          "output_type": "stream",
          "name": "stdout",
          "text": [
            "цифра: 3\n"
          ]
        }
      ]
    }
  ]
}